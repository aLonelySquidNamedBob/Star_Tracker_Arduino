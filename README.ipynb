{
 "cells": [
  {
   "cell_type": "markdown",
   "metadata": {},
   "source": [
    "# RPM function\n",
    "\n",
    "The Earth peforms one sidereal rotation every 23 hours 56 minutes and 4.1 seconds, thus the Earth's angular velocity $\\omega$ can be calculated as such:\n",
    "$$ \\omega = \\frac{360}{23 + 56 \\times 60 + 4.1 \\times 3600} \\approx 15.041068 $$\n",
    "Let $r$ be the radius of the bent threaded rod, or rather the distance between the pivot point and the bent rod and $d$ the distance travelled along that rod in one hour of rotation:\n",
    "$$ d = 2 \\pi r \\times \\frac{\\omega}{360} = \\frac{2 \\pi r \\omega}{360} $$\n",
    "The pitch of the nut on the threaded rod is of 1 mm per turn, thus the number of revolutions is equal to $d$.  \n",
    "We now need the ratio $R$ between the two gears: the motor gear has 20 teeth and the nut gear has 80 teeth, therefore if $n$ is the number of teeth on the nut gear and $m$ if the number of teeth on the motor gear, then the ratio $R$ is $\\frac{n}{m}$.  \n",
    "Last of all, we can figure out the number of rotations of the motor $N$ with the following formula: \n",
    "$$ N = d \\times R$$\n",
    "With that last piece of information, we can tie everything together in this equation, which gives us the number of rotations per hour:\n",
    "$$ N = \\frac{2 \\pi r \\omega R}{360} $$ \n",
    "However we want the number of rotations per minute, thus we can divide by 60:\n",
    "$$ N = \\frac{2 \\pi r \\omega R}{360 \\times 60} $$ \n",
    "$$ N = \\frac{\\pi r \\omega R}{10800} $$"
   ]
  }
 ],
 "metadata": {
  "language_info": {
   "name": "python"
  },
  "orig_nbformat": 4
 },
 "nbformat": 4,
 "nbformat_minor": 2
}
