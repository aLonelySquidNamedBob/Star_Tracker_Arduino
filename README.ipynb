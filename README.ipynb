{
 "cells": [
  {
   "cell_type": "markdown",
   "metadata": {},
   "source": [
    "# RPM function\n",
    "\n",
    "The Earth peforms one sidereal rotation every 23 hours 56 minutes and 4.1 seconds, thus the Earth's angular velocity $\\omega$ can be calculated as such:\n",
    "$$ \\omega = \\frac{360}{23 + 56 \\times 60 + 4.1 \\times 3600} \\approx 15.041068 $$\n",
    "Let $r$ be the radius of the bent threaded rod, or rather the distance between the pivot point and the bent rod and $d$ the distance travelled along that rod in one hour of rotation:\n",
    "$$ d = 2 \\pi r \\times \\frac{\\omega}{360} = \\frac{2 \\pi r \\omega}{360} $$\n",
    "The pitch of the nut on the threaded rod is of 1 mm per turn, thus the number of revolutions $n_{nut rotations} = d$.  \n",
    "We now need the ratio between the two gears: the motor gear has 20 teeth and the nut gear has 80 teeth, therefore the ratio is $\\frac{n_{nut gear teeth}}{n_{motor gear teeth}}$.  \n",
    "Last of all, we can figure out the number of rotations of the motor $n_{motor rotations}$ with the following formula: \n",
    "$$ n_{motor rotations} = n_{nut rotations} \\times \\frac{n_{nut gear teeth}}{n_{motor gear teeth}} = \\frac{n_{nut gear teeth}}{n_{motor gear teeth}} d $$\n",
    "With that last piece of information, we can tie everything together in this equation:\n",
    "$$ n_{motor rotations} = \\frac{2 \\pi r \\omega \\frac{n_{nut gear teeth}}{n_{motor gear teeth}}}{360 \\times 60} $$ \n",
    "$$  n_{motor rotations} = \\frac{\\pi r \\omega \\frac{n_{nut gear teeth}}{n_{motor gear teeth}}}{10800} $$"
   ]
  }
 ],
 "metadata": {
  "language_info": {
   "name": "python"
  },
  "orig_nbformat": 4
 },
 "nbformat": 4,
 "nbformat_minor": 2
}
